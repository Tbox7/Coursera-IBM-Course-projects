{
 "cells": [
  {
   "cell_type": "markdown",
   "id": "9bf5d0dc-b7fd-449a-9a05-fef0cbfb8089",
   "metadata": {},
   "source": [
    "# Data Science Tools and Ecosystem"
   ]
  },
  {
   "cell_type": "markdown",
   "id": "920ce3a3-4d71-472d-ae04-f2ed10af1a89",
   "metadata": {},
   "source": [
    "## In this notebook, Data Science Tools and Ecosystem are summarized."
   ]
  },
  {
   "cell_type": "markdown",
   "id": "6f73634a-4d61-48e7-b867-1018af381ee5",
   "metadata": {},
   "source": [
    "**Objectives:**\n",
    "1. Some populate languages\n",
    "2. Some commonly used libraries\n",
    "3. Table\n",
    "4. A few examples of arithmetics expressions"
   ]
  },
  {
   "cell_type": "markdown",
   "id": "30834031-eb10-4eeb-8e94-2c4900f41b11",
   "metadata": {},
   "source": [
    "## Some of the popular languages that Data Scientists use are:"
   ]
  },
  {
   "cell_type": "markdown",
   "id": "823889bf-26f2-42bd-ba8a-1c9cfba0c7c5",
   "metadata": {},
   "source": [
    "1. Python\n",
    "2. SQL\n",
    "3. R"
   ]
  },
  {
   "cell_type": "markdown",
   "id": "94e32762-57cf-4ecb-a7c3-e61bb59d956e",
   "metadata": {},
   "source": [
    "## Some of the commonly used libraries used by Data Scientists include:\n",
    "1. Pandas\n",
    "2. NumPy\n",
    "3. Matplotlib"
   ]
  },
  {
   "cell_type": "markdown",
   "id": "3e20b635-fcc9-40c8-a50d-48a246a94d2b",
   "metadata": {},
   "source": [
    "Data Science Tools |\n",
    "------------------ |\n",
    "Jupyter Notebook |\n",
    "Rstudio |\n",
    "VsCode |"
   ]
  },
  {
   "cell_type": "markdown",
   "id": "b13d9610-e701-4a3d-a6a0-46452612d551",
   "metadata": {},
   "source": [
    "### Below are a few examples of evaluating arithmetic expressions in Python"
   ]
  },
  {
   "cell_type": "code",
   "execution_count": 2,
   "id": "db28c1ce-70c8-49de-88b1-e079816191b9",
   "metadata": {},
   "outputs": [
    {
     "data": {
      "text/plain": [
       "17"
      ]
     },
     "execution_count": 2,
     "metadata": {},
     "output_type": "execute_result"
    }
   ],
   "source": [
    "#This a simple arithmetic expression to mutiply then add integers\n",
    "(3*4)+5"
   ]
  },
  {
   "cell_type": "code",
   "execution_count": 3,
   "id": "5b9c0567-e41e-4a09-89ea-38cbf46b816f",
   "metadata": {},
   "outputs": [
    {
     "data": {
      "text/plain": [
       "3.3333333333333335"
      ]
     },
     "execution_count": 3,
     "metadata": {},
     "output_type": "execute_result"
    }
   ],
   "source": [
    "#This will convert 200 minutes to hours by diving by 60\n",
    "200/60"
   ]
  },
  {
   "cell_type": "markdown",
   "id": "cea98e31-f54f-445a-8c25-2c2909ff66af",
   "metadata": {},
   "source": [
    "## Author"
   ]
  },
  {
   "cell_type": "markdown",
   "id": "373368c5-c84a-4f93-a52e-79149caf3710",
   "metadata": {},
   "source": [
    "yeshwanth"
   ]
  },
  {
   "cell_type": "code",
   "execution_count": null,
   "id": "fd9ac7f6-f0da-4763-990c-1747f5639e4d",
   "metadata": {},
   "outputs": [],
   "source": []
  }
 ],
 "metadata": {
  "kernelspec": {
   "display_name": "Python 3 (ipykernel)",
   "language": "python",
   "name": "python3"
  },
  "language_info": {
   "codemirror_mode": {
    "name": "ipython",
    "version": 3
   },
   "file_extension": ".py",
   "mimetype": "text/x-python",
   "name": "python",
   "nbconvert_exporter": "python",
   "pygments_lexer": "ipython3",
   "version": "3.11.9"
  }
 },
 "nbformat": 4,
 "nbformat_minor": 5
}


